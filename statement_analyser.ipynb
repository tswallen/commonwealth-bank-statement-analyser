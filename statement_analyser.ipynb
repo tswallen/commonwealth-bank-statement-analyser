{
 "nbformat": 4,
 "nbformat_minor": 2,
 "metadata": {
  "language_info": {
   "name": "python",
   "codemirror_mode": {
    "name": "ipython",
    "version": 3
   },
   "version": "3.7.4-final"
  },
  "orig_nbformat": 2,
  "file_extension": ".py",
  "mimetype": "text/x-python",
  "name": "python",
  "npconvert_exporter": "python",
  "pygments_lexer": "ipython3",
  "version": 3,
  "kernelspec": {
   "name": "python37464bitb45f476b377543668ef99e7df0953184",
   "display_name": "Python 3.7.4 64-bit"
  }
 },
 "cells": [
  {
   "cell_type": "markdown",
   "execution_count": null,
   "metadata": {},
   "outputs": [],
   "source": [
    "# Commonwealth Bank Statement Anaylser"
   ]
  },
  {
   "cell_type": "code",
   "execution_count": null,
   "metadata": {},
   "outputs": [],
   "source": [
    "from PyPDF2 import PdfFileReader\n",
    "from money import Money"
   ]
  },
  {
   "cell_type": "code",
   "execution_count": null,
   "metadata": {},
   "outputs": [],
   "source": [
    "file_path = 'Statement20200111.pdf'\n",
    "opening_balance_indicator = 'OPENING BALANCE'\n",
    "closing_balance_indicator = 'CLOSING BALANCE'\n",
    "currency = 'AUD'"
   ]
  },
  {
   "cell_type": "code",
   "execution_count": null,
   "metadata": {},
   "outputs": [],
   "source": [
    "def get_pdf_text(file_path: str) -> [str]:\n",
    "    pdf = PdfFileReader(open(file_path, 'rb'))\n",
    "    pdf.decrypt('')\n",
    "    return pdf.getPage(0).extractText().splitlines()"
   ]
  },
  {
   "cell_type": "code",
   "execution_count": null,
   "metadata": {},
   "outputs": [],
   "source": [
    "def get_balance(text: [str], indicator: str,currency: str) -> Money:\n",
    "    balance = None\n",
    "    for index, line in enumerate(text):\n",
    "        if line.find(indicator) is -1:\n",
    "            continue\n",
    "        balance = Money(text[index + 1].lstrip('$').replace(',', ''), currency)\n",
    "        break\n",
    "    return balance"
   ]
  },
  {
   "cell_type": "code",
   "execution_count": null,
   "metadata": {},
   "outputs": [],
   "source": [
    "text = get_pdf_text(file_path)"
   ]
  },
  {
   "cell_type": "code",
   "execution_count": null,
   "metadata": {},
   "outputs": [],
   "source": [
    "opening_balance = get_balance(text, opening_balance_indicator, currency)\n",
    "closing_balance = get_balance(text, closing_balance_indicator, currency)"
   ]
  },
  {
   "cell_type": "code",
   "execution_count": null,
   "metadata": {},
   "outputs": [],
   "source": [
    "print(f'Your opening balance is {opening_balance} and your closing balance is {closing_balance}')"
   ]
  }
 ]
}